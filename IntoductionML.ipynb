{
  "nbformat": 4,
  "nbformat_minor": 0,
  "metadata": {
    "colab": {
      "provenance": [],
      "toc_visible": true,
      "authorship_tag": "ABX9TyPA2zaVJBjg/EZw6jXEeNy9",
      "include_colab_link": true
    },
    "kernelspec": {
      "name": "python3",
      "display_name": "Python 3"
    },
    "language_info": {
      "name": "python"
    }
  },
  "cells": [
    {
      "cell_type": "markdown",
      "metadata": {
        "id": "view-in-github",
        "colab_type": "text"
      },
      "source": [
        "<a href=\"https://colab.research.google.com/github/alishabohara03/Machine-Learning/blob/main/IntoductionML.ipynb\" target=\"_parent\"><img src=\"https://colab.research.google.com/assets/colab-badge.svg\" alt=\"Open In Colab\"/></a>"
      ]
    },
    {
      "cell_type": "markdown",
      "source": [
        "###Introduction to Numpy\n",
        "What will we cover?\n",
        "\n",
        "Creating arrays\n",
        "\n",
        "Multi dimensional array Rnadomly generated arrays Element wise operators"
      ],
      "metadata": {
        "id": "hZo4y-vS_f0X"
      }
    },
    {
      "cell_type": "code",
      "source": [
        "import numpy as np"
      ],
      "metadata": {
        "id": "NG5UDB8F_h4l"
      },
      "execution_count": 1,
      "outputs": []
    },
    {
      "cell_type": "markdown",
      "source": [
        "Creating Arrays\n"
      ],
      "metadata": {
        "id": "rwYpZ-rj_yiX"
      }
    },
    {
      "cell_type": "code",
      "source": [
        " var = np.zeros(5)\n",
        " print(type(var))"
      ],
      "metadata": {
        "colab": {
          "base_uri": "https://localhost:8080/"
        },
        "id": "vXzAGIc5_1AL",
        "outputId": "25d142e4-2904-4d89-d9e7-a8acf5bad6af"
      },
      "execution_count": 2,
      "outputs": [
        {
          "output_type": "stream",
          "name": "stdout",
          "text": [
            "<class 'numpy.ndarray'>\n"
          ]
        }
      ]
    },
    {
      "cell_type": "code",
      "source": [
        "np.zeros(10)"
      ],
      "metadata": {
        "colab": {
          "base_uri": "https://localhost:8080/"
        },
        "id": "G7uYmT99_7_t",
        "outputId": "c07a0282-04ca-4c2e-e3fe-fc92a28f0653"
      },
      "execution_count": 3,
      "outputs": [
        {
          "output_type": "execute_result",
          "data": {
            "text/plain": [
              "array([0., 0., 0., 0., 0., 0., 0., 0., 0., 0.])"
            ]
          },
          "metadata": {},
          "execution_count": 3
        }
      ]
    },
    {
      "cell_type": "code",
      "source": [
        "np.ones(10)"
      ],
      "metadata": {
        "colab": {
          "base_uri": "https://localhost:8080/"
        },
        "id": "B5bwOs9IAC_e",
        "outputId": "7b7346b5-04a3-4d8b-ca53-4390e91938cd"
      },
      "execution_count": 4,
      "outputs": [
        {
          "output_type": "execute_result",
          "data": {
            "text/plain": [
              "array([1., 1., 1., 1., 1., 1., 1., 1., 1., 1.])"
            ]
          },
          "metadata": {},
          "execution_count": 4
        }
      ]
    },
    {
      "cell_type": "code",
      "source": [
        "np.full(10, 3)"
      ],
      "metadata": {
        "colab": {
          "base_uri": "https://localhost:8080/"
        },
        "id": "Ik6Dq6SrAFGA",
        "outputId": "a0c10118-42ad-4866-e9ef-b53e1711b95e"
      },
      "execution_count": 5,
      "outputs": [
        {
          "output_type": "execute_result",
          "data": {
            "text/plain": [
              "array([3, 3, 3, 3, 3, 3, 3, 3, 3, 3])"
            ]
          },
          "metadata": {},
          "execution_count": 5
        }
      ]
    },
    {
      "cell_type": "code",
      "source": [
        "np.array([1, 2, 3, 4])"
      ],
      "metadata": {
        "colab": {
          "base_uri": "https://localhost:8080/"
        },
        "id": "Yd2k9N6WAKDF",
        "outputId": "3d405125-7936-4e1d-87c2-bba99e592e18"
      },
      "execution_count": 6,
      "outputs": [
        {
          "output_type": "execute_result",
          "data": {
            "text/plain": [
              "array([1, 2, 3, 4])"
            ]
          },
          "metadata": {},
          "execution_count": 6
        }
      ]
    },
    {
      "cell_type": "code",
      "source": [
        "var = np.array([1, 2, 3, 4])\n",
        "var[2] = 6\n",
        "print(var)"
      ],
      "metadata": {
        "colab": {
          "base_uri": "https://localhost:8080/"
        },
        "id": "DLPiSO6qAM1j",
        "outputId": "42b86b98-c664-4ed4-c285-21a8694a5470"
      },
      "execution_count": 7,
      "outputs": [
        {
          "output_type": "stream",
          "name": "stdout",
          "text": [
            "[1 2 6 4]\n"
          ]
        }
      ]
    },
    {
      "cell_type": "code",
      "source": [
        "np.arange(3, 10)"
      ],
      "metadata": {
        "colab": {
          "base_uri": "https://localhost:8080/"
        },
        "id": "GEixAJpHAPox",
        "outputId": "4766203d-0851-4d54-e57f-2343d8b7e4f3"
      },
      "execution_count": 8,
      "outputs": [
        {
          "output_type": "execute_result",
          "data": {
            "text/plain": [
              "array([3, 4, 5, 6, 7, 8, 9])"
            ]
          },
          "metadata": {},
          "execution_count": 8
        }
      ]
    },
    {
      "cell_type": "markdown",
      "source": [
        "create arrays with evenly spaced numbers within a specified range"
      ],
      "metadata": {
        "id": "Yta1qpR0ASju"
      }
    },
    {
      "cell_type": "code",
      "source": [
        "np.linspace(0, 100, 10)"
      ],
      "metadata": {
        "colab": {
          "base_uri": "https://localhost:8080/"
        },
        "id": "7dz3IQ2JATaB",
        "outputId": "c8a73db2-55d0-4f7f-e2f7-96b7ee228f80"
      },
      "execution_count": 9,
      "outputs": [
        {
          "output_type": "execute_result",
          "data": {
            "text/plain": [
              "array([  0.        ,  11.11111111,  22.22222222,  33.33333333,\n",
              "        44.44444444,  55.55555556,  66.66666667,  77.77777778,\n",
              "        88.88888889, 100.        ])"
            ]
          },
          "metadata": {},
          "execution_count": 9
        }
      ]
    },
    {
      "cell_type": "markdown",
      "source": [
        "Multidimensional Arrays"
      ],
      "metadata": {
        "id": "TgGnkKJPAZx4"
      }
    },
    {
      "cell_type": "code",
      "source": [
        "# creating an MD unit Array of size (5,2)\n",
        "np.zeros((5, 2))"
      ],
      "metadata": {
        "colab": {
          "base_uri": "https://localhost:8080/"
        },
        "id": "nvdq6rYVAWYD",
        "outputId": "f06476f2-1ab9-42c2-c430-faf69788aa2a"
      },
      "execution_count": 10,
      "outputs": [
        {
          "output_type": "execute_result",
          "data": {
            "text/plain": [
              "array([[0., 0.],\n",
              "       [0., 0.],\n",
              "       [0., 0.],\n",
              "       [0., 0.],\n",
              "       [0., 0.]])"
            ]
          },
          "metadata": {},
          "execution_count": 10
        }
      ]
    },
    {
      "cell_type": "code",
      "source": [
        "#Generate a random array of size (3, 5) with elements of your choice\n",
        "\n",
        "# zero_array = np.zeros((5, 2))\n",
        "# random_array = np.random.randint(1, 11, (3, 5))\n",
        "\n",
        "\n",
        "# print(\"\\nRandom Array (3,5):\")\n",
        "# print(random_array)\n",
        "\n",
        "n= np.array([\n",
        "    [1, 2, 3, 4, 5],\n",
        "    [2, 3, 4, 5, 6],\n",
        "    [6, 7, 8, 9, 0]\n",
        "])\n",
        "n"
      ],
      "metadata": {
        "colab": {
          "base_uri": "https://localhost:8080/"
        },
        "id": "bIMO8n7FAgpy",
        "outputId": "562b6ee3-a0ea-4f90-d8a1-6de3a68e33d9"
      },
      "execution_count": 11,
      "outputs": [
        {
          "output_type": "execute_result",
          "data": {
            "text/plain": [
              "array([[1, 2, 3, 4, 5],\n",
              "       [2, 3, 4, 5, 6],\n",
              "       [6, 7, 8, 9, 0]])"
            ]
          },
          "metadata": {},
          "execution_count": 11
        }
      ]
    },
    {
      "cell_type": "code",
      "source": [
        "#update this element of an array with index\n",
        "\n",
        "# random_array = np.random.randint(1, 11, (3, 5))\n",
        "\n",
        "# print(\"Original Array:\")\n",
        "# print(random_array)\n",
        "# random_array[1, 2] = 99\n",
        "\n",
        "# print(\"\\nUpdated Array:\")\n",
        "# print(random_array)\n",
        "\n",
        "\n",
        "n[:, 2] = [2, 4, 5]\n",
        "n"
      ],
      "metadata": {
        "colab": {
          "base_uri": "https://localhost:8080/"
        },
        "id": "26_ZDXKMAjmT",
        "outputId": "3cf2b703-c806-408e-bba9-abb4455ba0b0"
      },
      "execution_count": 12,
      "outputs": [
        {
          "output_type": "execute_result",
          "data": {
            "text/plain": [
              "array([[1, 2, 2, 4, 5],\n",
              "       [2, 3, 4, 5, 6],\n",
              "       [6, 7, 5, 9, 0]])"
            ]
          },
          "metadata": {},
          "execution_count": 12
        }
      ]
    },
    {
      "cell_type": "markdown",
      "source": [
        "Randomly generated arrays\n",
        "-Numpy can create arrays filled with random numbers.\n",
        "\n",
        "To ensure the reproducibility, you can set a seed using np.random.seed()\n",
        "\n",
        "Everytime you run the code with np.random.seed(2),it will generate the exact same random numbers.\n",
        "\n",
        "if you remove or change the seed valuses, the sequence of random numbers will be changed."
      ],
      "metadata": {
        "id": "ebEmByhRAnXV"
      }
    },
    {
      "cell_type": "code",
      "source": [
        "np.random.rand(3)"
      ],
      "metadata": {
        "colab": {
          "base_uri": "https://localhost:8080/"
        },
        "id": "XwnXFgxQAoPA",
        "outputId": "17d39103-5a61-4164-fdf6-23f4b5899dd7"
      },
      "execution_count": 13,
      "outputs": [
        {
          "output_type": "execute_result",
          "data": {
            "text/plain": [
              "array([0.5943214 , 0.11041489, 0.8128376 ])"
            ]
          },
          "metadata": {},
          "execution_count": 13
        }
      ]
    },
    {
      "cell_type": "code",
      "source": [
        "np.random.seed(2)\n",
        "np.random.rand(5)"
      ],
      "metadata": {
        "colab": {
          "base_uri": "https://localhost:8080/"
        },
        "id": "vdVVnq1CAsnu",
        "outputId": "771fee16-545a-4894-80de-92f24fad784e"
      },
      "execution_count": 14,
      "outputs": [
        {
          "output_type": "execute_result",
          "data": {
            "text/plain": [
              "array([0.4359949 , 0.02592623, 0.54966248, 0.43532239, 0.4203678 ])"
            ]
          },
          "metadata": {},
          "execution_count": 14
        }
      ]
    },
    {
      "cell_type": "code",
      "source": [
        "np. random.seed(5)\n",
        "np.random.rand(5, 2)"
      ],
      "metadata": {
        "colab": {
          "base_uri": "https://localhost:8080/"
        },
        "id": "pP91368kAvuC",
        "outputId": "e0a3ba32-318c-4f91-ebbb-a85a0d2b456a"
      },
      "execution_count": 15,
      "outputs": [
        {
          "output_type": "execute_result",
          "data": {
            "text/plain": [
              "array([[0.22199317, 0.87073231],\n",
              "       [0.20671916, 0.91861091],\n",
              "       [0.48841119, 0.61174386],\n",
              "       [0.76590786, 0.51841799],\n",
              "       [0.2968005 , 0.18772123]])"
            ]
          },
          "metadata": {},
          "execution_count": 15
        }
      ]
    },
    {
      "cell_type": "code",
      "source": [
        "np.random.randn(5, 2)"
      ],
      "metadata": {
        "colab": {
          "base_uri": "https://localhost:8080/"
        },
        "id": "eHDV1twuAyf9",
        "outputId": "57377935-98ca-4da4-d239-7d4397768b21"
      },
      "execution_count": 16,
      "outputs": [
        {
          "output_type": "execute_result",
          "data": {
            "text/plain": [
              "array([[ 0.18760323, -0.32986996],\n",
              "       [-1.19276461, -0.20487651],\n",
              "       [-0.35882895,  0.6034716 ],\n",
              "       [-1.66478853, -0.70017904],\n",
              "       [ 1.15139101,  1.85733101]])"
            ]
          },
          "metadata": {},
          "execution_count": 16
        }
      ]
    },
    {
      "cell_type": "code",
      "source": [
        "np.random.seed(42)\n",
        "np.random.randint(low=0, high=100, size=(5, 2))"
      ],
      "metadata": {
        "colab": {
          "base_uri": "https://localhost:8080/"
        },
        "id": "zXdwAsJJA1vl",
        "outputId": "c9c8ffb9-e6b6-4f26-bbd4-6357f6517bfc"
      },
      "execution_count": 17,
      "outputs": [
        {
          "output_type": "execute_result",
          "data": {
            "text/plain": [
              "array([[51, 92],\n",
              "       [14, 71],\n",
              "       [60, 20],\n",
              "       [82, 86],\n",
              "       [74, 74]])"
            ]
          },
          "metadata": {},
          "execution_count": 17
        }
      ]
    },
    {
      "cell_type": "markdown",
      "source": [
        "E;ementwise operations"
      ],
      "metadata": {
        "id": "AuWyDeF9A5B0"
      }
    },
    {
      "cell_type": "code",
      "source": [
        "a = np.arange(5)\n",
        "a"
      ],
      "metadata": {
        "colab": {
          "base_uri": "https://localhost:8080/"
        },
        "id": "GKaNITzhA8HU",
        "outputId": "ca6d4583-7414-4ccd-810e-55e3620d3238"
      },
      "execution_count": 18,
      "outputs": [
        {
          "output_type": "execute_result",
          "data": {
            "text/plain": [
              "array([0, 1, 2, 3, 4])"
            ]
          },
          "metadata": {},
          "execution_count": 18
        }
      ]
    },
    {
      "cell_type": "code",
      "source": [
        "b = (10 + (a*2))\n",
        "b"
      ],
      "metadata": {
        "colab": {
          "base_uri": "https://localhost:8080/"
        },
        "id": "XR1QfqqYA_Pa",
        "outputId": "261f5ba5-a784-4aeb-d940-a3df1b2beb14"
      },
      "execution_count": 19,
      "outputs": [
        {
          "output_type": "execute_result",
          "data": {
            "text/plain": [
              "array([10, 12, 14, 16, 18])"
            ]
          },
          "metadata": {},
          "execution_count": 19
        }
      ]
    },
    {
      "cell_type": "code",
      "source": [
        "#comparision operation\n",
        "#you can  perform element - wise comparisons and create boolean arrays\n",
        "a"
      ],
      "metadata": {
        "colab": {
          "base_uri": "https://localhost:8080/"
        },
        "id": "bxliYqq3BAj6",
        "outputId": "d8ee3472-cf45-4fec-be3a-7eb62c07774b"
      },
      "execution_count": 20,
      "outputs": [
        {
          "output_type": "execute_result",
          "data": {
            "text/plain": [
              "array([0, 1, 2, 3, 4])"
            ]
          },
          "metadata": {},
          "execution_count": 20
        }
      ]
    },
    {
      "cell_type": "code",
      "source": [
        "a >= 2"
      ],
      "metadata": {
        "colab": {
          "base_uri": "https://localhost:8080/"
        },
        "id": "xpg5LMRVBFY7",
        "outputId": "77d496af-300f-438f-cdb6-87a8d93943d6"
      },
      "execution_count": 21,
      "outputs": [
        {
          "output_type": "execute_result",
          "data": {
            "text/plain": [
              "array([False, False,  True,  True,  True])"
            ]
          },
          "metadata": {},
          "execution_count": 21
        }
      ]
    },
    {
      "cell_type": "code",
      "source": [
        "a > b"
      ],
      "metadata": {
        "colab": {
          "base_uri": "https://localhost:8080/"
        },
        "id": "ONnph4--BIK9",
        "outputId": "84547536-57db-4558-c0c5-ea6eb29eeeab"
      },
      "execution_count": 22,
      "outputs": [
        {
          "output_type": "execute_result",
          "data": {
            "text/plain": [
              "array([False, False, False, False, False])"
            ]
          },
          "metadata": {},
          "execution_count": 22
        }
      ]
    },
    {
      "cell_type": "code",
      "source": [
        "#Summarizing\n",
        "#Numpy provides functions for summarizing array of data\n",
        "a"
      ],
      "metadata": {
        "colab": {
          "base_uri": "https://localhost:8080/"
        },
        "id": "G0D-jgePBK3G",
        "outputId": "fb3deecc-3b58-459b-a81b-7eb88b706a43"
      },
      "execution_count": 23,
      "outputs": [
        {
          "output_type": "execute_result",
          "data": {
            "text/plain": [
              "array([0, 1, 2, 3, 4])"
            ]
          },
          "metadata": {},
          "execution_count": 23
        }
      ]
    },
    {
      "cell_type": "code",
      "source": [
        "#standard devistion\n",
        "a. std()"
      ],
      "metadata": {
        "colab": {
          "base_uri": "https://localhost:8080/"
        },
        "id": "UyXfomMiBNcK",
        "outputId": "d83cdf16-1755-4417-a8a2-576b12b25cdd"
      },
      "execution_count": 24,
      "outputs": [
        {
          "output_type": "execute_result",
          "data": {
            "text/plain": [
              "1.4142135623730951"
            ]
          },
          "metadata": {},
          "execution_count": 24
        }
      ]
    },
    {
      "cell_type": "code",
      "source": [
        "#minimum value of an array\n",
        "a.min()"
      ],
      "metadata": {
        "colab": {
          "base_uri": "https://localhost:8080/"
        },
        "id": "WaFLpkWZBP6g",
        "outputId": "2af4db6e-effa-414d-8090-3889131b7560"
      },
      "execution_count": 25,
      "outputs": [
        {
          "output_type": "execute_result",
          "data": {
            "text/plain": [
              "0"
            ]
          },
          "metadata": {},
          "execution_count": 25
        }
      ]
    },
    {
      "cell_type": "code",
      "source": [
        "#max value of an array\n",
        "a.max()"
      ],
      "metadata": {
        "colab": {
          "base_uri": "https://localhost:8080/"
        },
        "id": "idEqY6QnBSiJ",
        "outputId": "a8af8573-b8bd-44b9-f6e5-039147c414b7"
      },
      "execution_count": 26,
      "outputs": [
        {
          "output_type": "execute_result",
          "data": {
            "text/plain": [
              "4"
            ]
          },
          "metadata": {},
          "execution_count": 26
        }
      ]
    },
    {
      "cell_type": "code",
      "source": [
        "#sum of  elements of an array\n",
        "a.sum()"
      ],
      "metadata": {
        "colab": {
          "base_uri": "https://localhost:8080/"
        },
        "id": "Oae3VCOQBU97",
        "outputId": "a7dc566f-48a9-4673-9d57-2e40e108ffbf"
      },
      "execution_count": 27,
      "outputs": [
        {
          "output_type": "execute_result",
          "data": {
            "text/plain": [
              "10"
            ]
          },
          "metadata": {},
          "execution_count": 27
        }
      ]
    }
  ]
}